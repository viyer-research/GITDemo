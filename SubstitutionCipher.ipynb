{
  "nbformat": 4,
  "nbformat_minor": 0,
  "metadata": {
    "colab": {
      "name": "SubstitutionCipher.ipynb",
      "provenance": [],
      "collapsed_sections": [],
      "authorship_tag": "ABX9TyPUS/Td1N0LABmFeLkC4KRJ",
      "include_colab_link": true
    },
    "kernelspec": {
      "name": "python3",
      "display_name": "Python 3"
    },
    "language_info": {
      "name": "python"
    }
  },
  "cells": [
    {
      "cell_type": "markdown",
      "metadata": {
        "id": "view-in-github",
        "colab_type": "text"
      },
      "source": [
        "<a href=\"https://colab.research.google.com/github/viyer-research/GITDemo/blob/master/SubstitutionCipher.ipynb\" target=\"_parent\"><img src=\"https://colab.research.google.com/assets/colab-badge.svg\" alt=\"Open In Colab\"/></a>"
      ]
    },
    {
      "cell_type": "code",
      "metadata": {
        "id": "veF3hxZNvxvr"
      },
      "source": [
        "import string\n",
        "import random\n",
        "\n",
        "def GenerateRndLetter():\n",
        "    return random.choice(string.ascii_letters)\n",
        "    \n",
        "def encryptUsingRandomSubstitution(plaintext):\n",
        "    substitute_dict = {\n",
        "        \"A\": \"Z\",\n",
        "        \"B\": \"Y\",\n",
        "        \"C\": \"X\",\n",
        "        \"D\": \"W\",\n",
        "        \"E\": \"V\",\n",
        "        \"F\": \"U\",\n",
        "        \"G\": \"T\",\n",
        "        \"H\": \"S\",\n",
        "        \"I\": \"R\",\n",
        "        \"J\": \"Q\",\n",
        "        \"K\": \"P\",\n",
        "        \"L\": \"O\",\n",
        "        \"M\": \"N\",\n",
        "        \"N\": \"M\",\n",
        "        \"O\": \"L\",\n",
        "        \"P\": \"K\",\n",
        "        \"Q\": \"J\",\n",
        "        \"R\": \"I\",\n",
        "        \"S\": \"H\",\n",
        "        \"T\": \"G\",\n",
        "        \"U\": \"F\",\n",
        "        \"V\": \"E\",\n",
        "        \"W\": \"D\",\n",
        "        \"X\": \"C\",\n",
        "        \"Y\": \"B\",\n",
        "        \"Z\": \"A\"\n",
        "    }\n",
        "    \n",
        "    result = \"\"\n",
        "\n",
        "    # traverse text\n",
        "    for i in range(len(plaintext)):\n",
        "        char = plaintext[i]\n",
        "\n",
        "        # Encrypt uppercase characters\n",
        "        if (char.isupper()):\n",
        "            result += substitute_dict[char]\n",
        "\n",
        "\n",
        "    pad_dict = dict([(value, key) for key, value in substitute_dict.items()])\n",
        "    return result, pad_dict \n",
        "    \n",
        "# check the above function\n",
        "text = \"ATTACKATONCE\"\n",
        "print(\"Text : \" + text)\n",
        "#print(\"Shift : \" + str(s))\n",
        "\n",
        "CiptherText, PadDict = encryptUsingRandomSubstitution(text)\n",
        "print(\"Cipher: \", CiptherText)    \n",
        "for i in PadDict:\n",
        "    print(i, \" :  \", PadDict[i])\n",
        "\n",
        "print(GenerateRndLetter())"
      ],
      "execution_count": null,
      "outputs": []
    }
  ]
}