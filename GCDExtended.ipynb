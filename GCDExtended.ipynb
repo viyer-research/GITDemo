{
  "nbformat": 4,
  "nbformat_minor": 0,
  "metadata": {
    "colab": {
      "name": "GCDExtended.ipynb",
      "provenance": [],
      "authorship_tag": "ABX9TyMeXxfSsQp8wPwUmOAq0lxu",
      "include_colab_link": true
    },
    "kernelspec": {
      "name": "python3",
      "display_name": "Python 3"
    },
    "language_info": {
      "name": "python"
    }
  },
  "cells": [
    {
      "cell_type": "markdown",
      "metadata": {
        "id": "view-in-github",
        "colab_type": "text"
      },
      "source": [
        "<a href=\"https://colab.research.google.com/github/viyer-research/GITDemo/blob/master/GCDExtended.ipynb\" target=\"_parent\"><img src=\"https://colab.research.google.com/assets/colab-badge.svg\" alt=\"Open In Colab\"/></a>"
      ]
    },
    {
      "cell_type": "code",
      "metadata": {
        "id": "QS1XuBqfifyv",
        "outputId": "c9c72719-f915-485f-a10c-b01e924de80d",
        "colab": {
          "base_uri": "https://localhost:8080/"
        }
      },
      "source": [
        "# Python program to demonstrate working of extended\n",
        "# Euclidean Algorithm\n",
        "\t\n",
        "# function for extended Euclidean Algorithm\n",
        "def gcdExtended(a, b):\n",
        "\n",
        "\t# Base Case\n",
        "\tif a == 0 :\n",
        "\t\treturn b, 0, 1\n",
        "\t\t\t\n",
        "\tgcd, x1, y1 = gcdExtended(b%a, a)\n",
        "\t\n",
        "\t# Update x and y using results of recursive\n",
        "\t# call\n",
        "\tx = y1 - (b//a) * x1\n",
        "\ty = x1\n",
        "\t\n",
        "\treturn gcd, x, y\n",
        "\t\n",
        "\n",
        "# Driver code\n",
        "a, b = 973,301\n",
        "\n",
        "\n",
        "g, x, y = gcdExtended(a, b)\n",
        "print(\"gcd(\", a , \",\" , b, \") = \", g, x, y)\n"
      ],
      "execution_count": 10,
      "outputs": [
        {
          "output_type": "stream",
          "name": "stdout",
          "text": [
            "gcd( 973 , 301 ) =  7 13 -42\n"
          ]
        }
      ]
    }
  ]
}