{
  "nbformat": 4,
  "nbformat_minor": 0,
  "metadata": {
    "colab": {
      "name": "GCDExtended.ipynb",
      "provenance": [],
      "authorship_tag": "ABX9TyN61NDwdk5oD7FigUK2nPts",
      "include_colab_link": true
    },
    "kernelspec": {
      "name": "python3",
      "display_name": "Python 3"
    },
    "language_info": {
      "name": "python"
    }
  },
  "cells": [
    {
      "cell_type": "markdown",
      "metadata": {
        "id": "view-in-github",
        "colab_type": "text"
      },
      "source": [
        "<a href=\"https://colab.research.google.com/github/viyer-research/GITDemo/blob/master/GCDExtended.ipynb\" target=\"_parent\"><img src=\"https://colab.research.google.com/assets/colab-badge.svg\" alt=\"Open In Colab\"/></a>"
      ]
    },
    {
      "cell_type": "code",
      "metadata": {
        "id": "QS1XuBqfifyv"
      },
      "source": [
        "# Python program to demonstrate working of extended\n",
        "# Euclidean Algorithm\n",
        "\t\n",
        "# function for extended Euclidean Algorithm\n",
        "def gcdExtended(a, b):\n",
        "\n",
        "\t# Base Case\n",
        "\tif a == 0 :\n",
        "\t\treturn b, 0, 1\n",
        "\t\t\t\n",
        "\tgcd, x1, y1 = gcdExtended(b%a, a)\n",
        "\t\n",
        "\t# Update x and y using results of recursive\n",
        "\t# call\n",
        "\tx = y1 - (b//a) * x1\n",
        "\ty = x1\n",
        "\t\n",
        "\treturn gcd, x, y\n",
        "\t\n",
        "\n",
        "# Driver code\n",
        "a, b = 35,15\n",
        "g, x, y = gcdExtended(a, b)\n",
        "print(\"gcd(\", a , \",\" , b, \") = \", g)\n"
      ],
      "execution_count": null,
      "outputs": []
    }
  ]
}