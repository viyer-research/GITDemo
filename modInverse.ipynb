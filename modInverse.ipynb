{
  "nbformat": 4,
  "nbformat_minor": 0,
  "metadata": {
    "colab": {
      "name": "modInverse.ipynb",
      "provenance": [],
      "authorship_tag": "ABX9TyMXd/iAkOf/ogzu//MC6Sk4",
      "include_colab_link": true
    },
    "kernelspec": {
      "name": "python3",
      "display_name": "Python 3"
    },
    "language_info": {
      "name": "python"
    }
  },
  "cells": [
    {
      "cell_type": "markdown",
      "metadata": {
        "id": "view-in-github",
        "colab_type": "text"
      },
      "source": [
        "<a href=\"https://colab.research.google.com/github/viyer-research/GITDemo/blob/master/modInverse.ipynb\" target=\"_parent\"><img src=\"https://colab.research.google.com/assets/colab-badge.svg\" alt=\"Open In Colab\"/></a>"
      ]
    },
    {
      "cell_type": "code",
      "metadata": {
        "colab": {
          "base_uri": "https://localhost:8080/"
        },
        "id": "El599pv3Cbe-",
        "outputId": "809774c5-8e3f-4688-cb31-edf8a8786989"
      },
      "source": [
        "# Python3 program to find modular\n",
        "# inverse of a under modulo m\n",
        " \n",
        "# A naive method to find modulor\n",
        "# multiplicative inverse of 'a'\n",
        "# under modulo 'm'\n",
        " \n",
        " \n",
        "def modInverse(a, m):\n",
        "     \n",
        "    for x in range(1, m):\n",
        "        if (((a%m) * (x%m)) % m == 1):\n",
        "            return x\n",
        "    return -1\n",
        " \n",
        " \n",
        "# Driver Code\n",
        "a = 17\n",
        "m = 780\n",
        " \n",
        "# Function call\n",
        "print(modInverse(a, m))\n",
        " \n",
        "# This code is contributed by Nikita Tiwari."
      ],
      "execution_count": 1,
      "outputs": [
        {
          "output_type": "stream",
          "name": "stdout",
          "text": [
            "413\n"
          ]
        }
      ]
    }
  ]
}