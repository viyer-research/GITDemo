{
  "nbformat": 4,
  "nbformat_minor": 0,
  "metadata": {
    "colab": {
      "name": "Untitled0.ipynb",
      "provenance": [],
      "authorship_tag": "ABX9TyNFE3f9oAvRp+uEVLU44XWm",
      "include_colab_link": true
    },
    "kernelspec": {
      "name": "python3",
      "display_name": "Python 3"
    },
    "language_info": {
      "name": "python"
    }
  },
  "cells": [
    {
      "cell_type": "markdown",
      "metadata": {
        "id": "view-in-github",
        "colab_type": "text"
      },
      "source": [
        "<a href=\"https://colab.research.google.com/github/viyer-research/GITDemo/blob/master/GCDStandard.ipynb\" target=\"_parent\"><img src=\"https://colab.research.google.com/assets/colab-badge.svg\" alt=\"Open In Colab\"/></a>"
      ]
    },
    {
      "cell_type": "code",
      "metadata": {
        "colab": {
          "base_uri": "https://localhost:8080/"
        },
        "id": "2kGwqFMDfvNU",
        "outputId": "64daba5d-58d8-4bcd-bcd8-f7deefe44d28"
      },
      "source": [
        "# Python program to demonstrate Basic Euclidean Algorithm\n",
        "# Contributed by Mohit Gupta_OMG\n",
        "\n",
        "# Function to return gcd of a and b\n",
        "def gcd(a, b):\n",
        "\tif a == 0 :\n",
        "\t\treturn b\n",
        "\t\n",
        "\treturn gcd(b%a, a)\n",
        "\n",
        "a = 10\n",
        "b = 15\n",
        "print(\"gcd(\", a , \",\" , b, \") = \", gcd(a, b))\n",
        "\n",
        "a = 35\n",
        "b = 10\n",
        "print(\"gcd(\", a , \",\" , b, \") = \", gcd(a, b))\n",
        "\n",
        "a = 31\n",
        "b = 2\n",
        "print(\"gcd(\", a , \",\" , b, \") = \", gcd(a, b))\n",
        "\n"
      ],
      "execution_count": 2,
      "outputs": [
        {
          "output_type": "stream",
          "name": "stdout",
          "text": [
            "gcd( 10 , 15 ) =  5\n",
            "gcd( 35 , 10 ) =  5\n",
            "gcd( 973 , 301 ) =  7\n"
          ]
        }
      ]
    }
  ]
}
