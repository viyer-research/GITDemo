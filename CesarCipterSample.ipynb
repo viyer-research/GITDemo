{
  "nbformat": 4,
  "nbformat_minor": 0,
  "metadata": {
    "colab": {
      "name": "Untitled0.ipynb",
      "provenance": [],
      "authorship_tag": "ABX9TyO5uonWhGTdze5R+WXbTSvG",
      "include_colab_link": true
    },
    "kernelspec": {
      "name": "python3",
      "display_name": "Python 3"
    },
    "language_info": {
      "name": "python"
    }
  },
  "cells": [
    {
      "cell_type": "markdown",
      "metadata": {
        "id": "view-in-github",
        "colab_type": "text"
      },
      "source": [
        "<a href=\"https://colab.research.google.com/github/viyer-research/GITDemo/blob/master/CesarCipterSample.ipynb\" target=\"_parent\"><img src=\"https://colab.research.google.com/assets/colab-badge.svg\" alt=\"Open In Colab\"/></a>"
      ]
    },
    {
      "cell_type": "code",
      "metadata": {
        "colab": {
          "base_uri": "https://localhost:8080/"
        },
        "id": "kGpKwfauIdrh",
        "outputId": "1fec9f9c-358c-4ed2-d8c3-bf83734c1772"
      },
      "source": [
        "#A python program to illustrate Caesar Cipher Technique\n",
        "def encrypt(text,s):\n",
        "\tresult = \"\"\n",
        "\n",
        "\t# traverse text\n",
        "\tfor i in range(len(text)):\n",
        "\t\tchar = text[i]\n",
        "\n",
        "\t\t# Encrypt uppercase characters\n",
        "\t\tif (char.isupper()):\n",
        "\t\t\tresult += chr((ord(char) + s-65) % 26 + 65)\n",
        "\n",
        "\t\t# Encrypt lowercase characters\n",
        "\t\telse:\n",
        "\t\t\tresult += chr((ord(char) + s - 97) % 26 + 97)\n",
        "\n",
        "\treturn result\n",
        "\n",
        "#check the above function\n",
        "text = \"ATTACKATONCE\"\n",
        "s = 4\n",
        "print(\"Text : \" + text)\n",
        "print(\"Shift : \" + str(s))\n",
        "print(\"Cipher: \" + encrypt(text,s))\n"
      ],
      "execution_count": 4,
      "outputs": [
        {
          "output_type": "stream",
          "name": "stdout",
          "text": [
            "Text : ATTACKATONCE\n",
            "Shift : 4\n",
            "Cipher: EXXEGOEXSRGI\n"
          ]
        }
      ]
    }
  ]
}