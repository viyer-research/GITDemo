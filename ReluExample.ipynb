{
  "nbformat": 4,
  "nbformat_minor": 0,
  "metadata": {
    "colab": {
      "name": "ReluExample.ipynb",
      "provenance": [],
      "authorship_tag": "ABX9TyNyiRoPILcbH7Qg75hycyrc",
      "include_colab_link": true
    },
    "kernelspec": {
      "name": "python3",
      "display_name": "Python 3"
    },
    "language_info": {
      "name": "python"
    }
  },
  "cells": [
    {
      "cell_type": "markdown",
      "metadata": {
        "id": "view-in-github",
        "colab_type": "text"
      },
      "source": [
        "<a href=\"https://colab.research.google.com/github/viyer-research/GITDemo/blob/master/ReluExample.ipynb\" target=\"_parent\"><img src=\"https://colab.research.google.com/assets/colab-badge.svg\" alt=\"Open In Colab\"/></a>"
      ]
    },
    {
      "cell_type": "code",
      "execution_count": 1,
      "metadata": {
        "id": "D5zZMQ-Sebzp",
        "outputId": "b9b3353e-d627-4b3f-a989-7d44431ce96b",
        "colab": {
          "base_uri": "https://localhost:8080/"
        }
      },
      "outputs": [
        {
          "output_type": "stream",
          "name": "stdout",
          "text": [
            "[[6.33788 0 0 ... 1.5180645 3.96629524 0.209116936]]\n"
          ]
        }
      ],
      "source": [
        "import numpy as np                   # advanced math library\n",
        "import tensorflow as tf\n",
        "\n",
        "#tf.compat.v1.disable_eager_execution()\n",
        "b = tf.Variable(tf.zeros((100,)))\n",
        "W = tf.Variable(tf.random.uniform((784, 100), -1, 1))\n",
        "x = tf.Variable(tf.random.uniform((1, 784), -1, 1))\n",
        "#x = tf.compat.v1.placeholder(tf.float32, shape=(1, 784), name=None)\n",
        "#x = tf.compat.v1.placeholder(tf.float32, (1, 784))\n",
        "h = tf.nn.relu(tf.matmul(x, W) + b)\n",
        "tf.print(h)\n",
        "#print(\"h\", h[0,1])"
      ]
    }
  ]
}