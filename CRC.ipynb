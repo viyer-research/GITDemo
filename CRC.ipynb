{
  "nbformat": 4,
  "nbformat_minor": 0,
  "metadata": {
    "colab": {
      "name": "CRC.ipynb",
      "provenance": [],
      "authorship_tag": "ABX9TyMvgAtYA7t62Xv1rj7CHvW5",
      "include_colab_link": true
    },
    "kernelspec": {
      "name": "python3",
      "display_name": "Python 3"
    },
    "language_info": {
      "name": "python"
    }
  },
  "cells": [
    {
      "cell_type": "markdown",
      "metadata": {
        "id": "view-in-github",
        "colab_type": "text"
      },
      "source": [
        "<a href=\"https://colab.research.google.com/github/viyer-research/GITDemo/blob/master/CRC.ipynb\" target=\"_parent\"><img src=\"https://colab.research.google.com/assets/colab-badge.svg\" alt=\"Open In Colab\"/></a>"
      ]
    },
    {
      "cell_type": "code",
      "metadata": {
        "colab": {
          "base_uri": "https://localhost:8080/"
        },
        "id": "lfg7E3ESV5fw",
        "outputId": "3abeb0d0-3563-48ab-cce0-5e248b377fc6"
      },
      "source": [
        "def crc_16(msg):\n",
        "    lo = hi = 0xff\n",
        "    mask = 0xff\n",
        "    for new in msg:\n",
        "        new ^= lo\n",
        "        new ^= (new << 4) & mask\n",
        "        tmp = new >> 5\n",
        "        lo = hi\n",
        "        hi = new ^ tmp\n",
        "        lo ^= (new << 3) & mask\n",
        "        lo ^= new >> 4\n",
        "    lo ^= mask\n",
        "    hi ^= mask\n",
        "    return hi << 8 | lo\n",
        "\n",
        "# Test\n",
        "\n",
        "string = \"Hello World\"\n",
        "string = \"Hello World1Hello World1Hello World1Hello World1Hello World1\"\n",
        "# string with encoding 'utf-8'\n",
        "arr = bytes(string, 'utf-8')\n",
        "out = crc_16(arr)\n",
        "\n",
        "hi, lo = out >> 8, out & 0xff\n",
        "print('{:04x} = {:02x} {:02x}'.format(out, hi, lo))"
      ],
      "execution_count": 12,
      "outputs": [
        {
          "output_type": "stream",
          "name": "stdout",
          "text": [
            "491f = 49 1f\n"
          ]
        }
      ]
    }
  ]
}