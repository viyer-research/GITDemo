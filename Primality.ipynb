{
  "nbformat": 4,
  "nbformat_minor": 0,
  "metadata": {
    "colab": {
      "name": "Untitled1.ipynb",
      "provenance": [],
      "authorship_tag": "ABX9TyOvsNDj+VzPPE7t7MyNsLQP",
      "include_colab_link": true
    },
    "kernelspec": {
      "name": "python3",
      "display_name": "Python 3"
    },
    "language_info": {
      "name": "python"
    }
  },
  "cells": [
    {
      "cell_type": "markdown",
      "metadata": {
        "id": "view-in-github",
        "colab_type": "text"
      },
      "source": [
        "<a href=\"https://colab.research.google.com/github/viyer-research/GITDemo/blob/master/Primality.ipynb\" target=\"_parent\"><img src=\"https://colab.research.google.com/assets/colab-badge.svg\" alt=\"Open In Colab\"/></a>"
      ]
    },
    {
      "cell_type": "code",
      "metadata": {
        "colab": {
          "base_uri": "https://localhost:8080/"
        },
        "id": "uYW2FJ7Ndcgh",
        "outputId": "3a016021-aea0-47b8-e56f-d1069d1c4203"
      },
      "source": [
        "# Python3 program to find the smallest\n",
        "# twin in given range\n",
        "import random\n",
        "\n",
        "# Iterative Function to calculate\n",
        "# (a^n)%p in O(logy)\n",
        "def power(a, n, p):\n",
        "\t\n",
        "\t# Initialize result\n",
        "\tres = 1\n",
        "\t\n",
        "\t# Update 'a' if 'a' >= p\n",
        "\ta = a % p\n",
        "\t\n",
        "\twhile n > 0:\n",
        "\t\t\n",
        "\t\t# If n is odd, multiply\n",
        "\t\t# 'a' with result\n",
        "\t\tif n % 2:\n",
        "\t\t\tres = (res * a) % p\n",
        "\t\t\tn = n - 1\n",
        "\t\telse:\n",
        "\t\t\ta = (a ** 2) % p\n",
        "\t\t\t\n",
        "\t\t\t# n must be even now\n",
        "\t\t\tn = n // 2\n",
        "\t\t\t\n",
        "\treturn res % p\n",
        "\t\n",
        "# If n is prime, then always returns true,\n",
        "# If n is composite than returns false with\n",
        "# high probability Higher value of k increases\n",
        "# probability of correct result\n",
        "def isPrime(n, k):\n",
        "\t\n",
        "\t# Corner cases\n",
        "\tif n == 1 or n == 4:\n",
        "\t\treturn False\n",
        "\telif n == 2 or n == 3:\n",
        "\t\treturn True\n",
        "\t\n",
        "\t# Try k times\n",
        "\telse:\n",
        "\t\tfor i in range(k):\n",
        "\t\t\t\n",
        "\t\t\t# Pick a random number\n",
        "\t\t\t# in [2..n-2]\t\n",
        "\t\t\t# Above corner cases make\n",
        "\t\t\t# sure that n > 4\n",
        "\t\t\ta = random.randint(2, n - 2)\n",
        "\t\t\t\n",
        "\t\t\t# Fermat's little theorem\n",
        "\t\t\tif power(a, n - 1, n) != 1:\n",
        "\t\t\t\treturn False\n",
        "\t\t\t\t\n",
        "\treturn True\n",
        "\t\t\t\n",
        "# Driver code\n",
        "k = 3\n",
        "if isPrime(11, k):\n",
        "  print(\"true\")\n",
        "else:\n",
        "  print(\"false\")\n",
        "\n",
        "if isPrime(15, k):\n",
        "   print(\"true\")\n",
        "else:\n",
        "   print(\"false\")\n",
        "\n",
        "if isPrime(561, k):\n",
        "   print(\"true\")\n",
        "else:\n",
        "   print(\"false\")\n",
        "# This code is contributed by Aanchal Tiwari\n"
      ],
      "execution_count": 5,
      "outputs": [
        {
          "output_type": "stream",
          "name": "stdout",
          "text": [
            "true\n",
            "false\n",
            "false\n"
          ]
        }
      ]
    }
  ]
}