{
  "nbformat": 4,
  "nbformat_minor": 0,
  "metadata": {
    "colab": {
      "name": "Untitled3.ipynb",
      "provenance": [],
      "authorship_tag": "ABX9TyPwAxI6z3OTkqthXPaATMO6",
      "include_colab_link": true
    },
    "kernelspec": {
      "name": "python3",
      "display_name": "Python 3"
    },
    "language_info": {
      "name": "python"
    }
  },
  "cells": [
    {
      "cell_type": "markdown",
      "metadata": {
        "id": "view-in-github",
        "colab_type": "text"
      },
      "source": [
        "<a href=\"https://colab.research.google.com/github/viyer-research/GITDemo/blob/master/ECDH.ipynb\" target=\"_parent\"><img src=\"https://colab.research.google.com/assets/colab-badge.svg\" alt=\"Open In Colab\"/></a>"
      ]
    },
    {
      "cell_type": "code",
      "metadata": {
        "id": "mf_xayBJgJ2M"
      },
      "source": [
        ""
      ],
      "execution_count": null,
      "outputs": []
    },
    {
      "cell_type": "code",
      "metadata": {
        "colab": {
          "base_uri": "https://localhost:8080/",
          "height": 537
        },
        "id": "jy5e9415gKLj",
        "outputId": "edfd4edc-1fff-4e7e-b189-c7e3612ad96b"
      },
      "source": [
        "import numpy as np\n",
        "class Point:\n",
        "    def __init__(self,x_init,y_init):\n",
        "        self.x = x_init\n",
        "        self.y = y_init\n",
        "\n",
        "# calculate modular inverse\n",
        "def inv(n):\n",
        "    for i in range(p):\n",
        "        if (n * i) % p == 1:\n",
        "            return i\n",
        "\n",
        "# check if point lies on the curve\n",
        "def isPoint(a1):\n",
        "    y=a1.y*a1.y\n",
        "    y=np.mod(y,p)\n",
        "    x=(a1.x*a1.x*a1.x + a*a1.x + b)\n",
        "    x=np.mod(x,p)\n",
        "    if(x==y):\n",
        "        return True\n",
        "    else:\n",
        "        return False\n",
        "\n",
        "# print all point on the curve\n",
        "def allPoints(p,a,b):\n",
        "    for i in range(0, p):\n",
        "        for j in range(0,p):\n",
        "            a2=Point(i,j)\n",
        "            if(isPoint(a2)==True):\n",
        "                print((i,j))\n",
        "\n",
        "# addition of point on the curve\n",
        "# 1) when P+(-P)=O (addition to inverse)\n",
        "# 2) when P+(-P) !=O (yp != yq)\n",
        "# 3) when xp != xq\n",
        "def addPoints(a1,a3):\n",
        "        if a1.x == a3.x and (a1.y != a3.y):\n",
        "            return(a1)\n",
        "        if a1.x == a3.x:\n",
        "            l = ((3 * a1.x * a1.x  + a ) * inv(2 * a1.y)) % p\n",
        "            xr= (l*l - a1.x - a3.x) % p\n",
        "            yr= (l*(a1.x-xr)-a1.y)%p\n",
        "            a3=Point(xr,yr)    \n",
        "            return(a3)\n",
        "        else:\n",
        "            l = ((a3.y - a1.y) * inv(a3.x - a1.x))% p\n",
        "            xr= (l*l - a1.x - a3.x) % p\n",
        "            yr= (l*(a1.x-xr)-a1.y)%p\n",
        "            a3=Point(xr,yr)    \n",
        "            return(a3)\n",
        "\n",
        "def genPA(na,genr):\n",
        "    g2=genr\n",
        "    for k in range(1,na):\n",
        "        g2=addPoints(g2,genr)\n",
        "    return(g2)\n",
        "\n",
        "def encrypt(Pm,na):\n",
        "    g=int(raw_input(\"Enter generator (i,j) cordinate i : \"))\n",
        "    h=int(raw_input(\"Enter generator (i,J) cordinate j : \"))\n",
        "    genr=Point(g,h)\n",
        "    pa=genPA(na,genr)\n",
        "    k=41\n",
        "    c1=genPA(k,genr)\n",
        "    c2=genPA(k,pa)\n",
        "    c2=addPoints(c2,Pm)\n",
        "    return c1,c2\n",
        "\n",
        "def decrypt(na,a3,a4):\n",
        "    h1=genPA(na,a3)\n",
        "    h1.y=-1*h1.y\n",
        "    h2=addPoints(a4,h1)\n",
        "    return h2\n",
        "\n",
        "if __name__ == \"__main__\":\n",
        "    # input d\n",
        "    a=int(input(\"Enter a : \"))\n",
        "    #input e\n",
        "    b=int(input(\"Enter b : \"))\n",
        "    p=int(input(\"Enter p : \"))\n",
        "# input a point\n",
        "    x=int(input(\"Enter x : \"))\n",
        "    y=int(input(\"Enter y : \"))\n",
        "    a1=Point(x,y)\n",
        "# validate point on the curve\n",
        "    print(\"Check if point lies on the curve ?\")\n",
        "    print(isPoint(a1))\n",
        "\n",
        "    print(\"Adding points: \")\n",
        "    x1=int(input(\"Enter xq: \"))\n",
        "    y1=int(input(\"Enter yq: \"))\n",
        "    a3=Point(x1,y1)\n",
        "    print(\"Sum : \")\n",
        "    a3=addPoints(a1,a3)\n",
        "    print(a3.x,a3.y)\n",
        "\n",
        "    x2=int(input(\"Enter message(x,y) point x : \"))\n",
        "    y2=int(input(\"Enter message(x,y) point y :\"))\n",
        "    Pm=Point(x2,y2)\n",
        "    na=int(raw_input(\"Enter na (private key): \"))\n",
        "    a3,a4=encrypt(Pm,na)\n",
        "    print(\"Encrypted message: \")\n",
        "    print((a3.x,a3.y),(a4.x,a4.y))\n",
        "    a6=decrypt(na,a3,a4)\n",
        "    print(\"Decrypted message: \")\n",
        "    print(a6.x,a6.y)\n",
        "# prints all point on the curve\n",
        "    print(\"All Points on the curve are :\")\n",
        "    print(allPoints(p,a,b))"
      ],
      "execution_count": 5,
      "outputs": [
        {
          "output_type": "stream",
          "name": "stdout",
          "text": [
            "Enter a : 29\n",
            "Enter b : 4\n",
            "Enter p : 22\n",
            "Enter x : 13\n",
            "Enter y : 55\n",
            "Check if point lies on the curve ?\n",
            "False\n",
            "Adding points: \n",
            "Enter xq: 23\n",
            "Enter yq: 4\n",
            "Sum : \n"
          ]
        },
        {
          "output_type": "error",
          "ename": "TypeError",
          "evalue": "ignored",
          "traceback": [
            "\u001b[0;31m---------------------------------------------------------------------------\u001b[0m",
            "\u001b[0;31mTypeError\u001b[0m                                 Traceback (most recent call last)",
            "\u001b[0;32m<ipython-input-5-5af0233ac267>\u001b[0m in \u001b[0;36m<module>\u001b[0;34m()\u001b[0m\n\u001b[1;32m     92\u001b[0m     \u001b[0ma3\u001b[0m\u001b[0;34m=\u001b[0m\u001b[0mPoint\u001b[0m\u001b[0;34m(\u001b[0m\u001b[0mx1\u001b[0m\u001b[0;34m,\u001b[0m\u001b[0my1\u001b[0m\u001b[0;34m)\u001b[0m\u001b[0;34m\u001b[0m\u001b[0;34m\u001b[0m\u001b[0m\n\u001b[1;32m     93\u001b[0m     \u001b[0mprint\u001b[0m\u001b[0;34m(\u001b[0m\u001b[0;34m\"Sum : \"\u001b[0m\u001b[0;34m)\u001b[0m\u001b[0;34m\u001b[0m\u001b[0;34m\u001b[0m\u001b[0m\n\u001b[0;32m---> 94\u001b[0;31m     \u001b[0ma3\u001b[0m\u001b[0;34m=\u001b[0m\u001b[0maddPoints\u001b[0m\u001b[0;34m(\u001b[0m\u001b[0ma1\u001b[0m\u001b[0;34m,\u001b[0m\u001b[0ma3\u001b[0m\u001b[0;34m)\u001b[0m\u001b[0;34m\u001b[0m\u001b[0;34m\u001b[0m\u001b[0m\n\u001b[0m\u001b[1;32m     95\u001b[0m     \u001b[0mprint\u001b[0m\u001b[0;34m(\u001b[0m\u001b[0ma3\u001b[0m\u001b[0;34m.\u001b[0m\u001b[0mx\u001b[0m\u001b[0;34m,\u001b[0m\u001b[0ma3\u001b[0m\u001b[0;34m.\u001b[0m\u001b[0my\u001b[0m\u001b[0;34m)\u001b[0m\u001b[0;34m\u001b[0m\u001b[0;34m\u001b[0m\u001b[0m\n\u001b[1;32m     96\u001b[0m \u001b[0;34m\u001b[0m\u001b[0m\n",
            "\u001b[0;32m<ipython-input-5-5af0233ac267>\u001b[0m in \u001b[0;36maddPoints\u001b[0;34m(a1, a3)\u001b[0m\n\u001b[1;32m     44\u001b[0m             \u001b[0;32mreturn\u001b[0m\u001b[0;34m(\u001b[0m\u001b[0ma3\u001b[0m\u001b[0;34m)\u001b[0m\u001b[0;34m\u001b[0m\u001b[0;34m\u001b[0m\u001b[0m\n\u001b[1;32m     45\u001b[0m         \u001b[0;32melse\u001b[0m\u001b[0;34m:\u001b[0m\u001b[0;34m\u001b[0m\u001b[0;34m\u001b[0m\u001b[0m\n\u001b[0;32m---> 46\u001b[0;31m             \u001b[0ml\u001b[0m \u001b[0;34m=\u001b[0m \u001b[0;34m(\u001b[0m\u001b[0;34m(\u001b[0m\u001b[0ma3\u001b[0m\u001b[0;34m.\u001b[0m\u001b[0my\u001b[0m \u001b[0;34m-\u001b[0m \u001b[0ma1\u001b[0m\u001b[0;34m.\u001b[0m\u001b[0my\u001b[0m\u001b[0;34m)\u001b[0m \u001b[0;34m*\u001b[0m \u001b[0minv\u001b[0m\u001b[0;34m(\u001b[0m\u001b[0ma3\u001b[0m\u001b[0;34m.\u001b[0m\u001b[0mx\u001b[0m \u001b[0;34m-\u001b[0m \u001b[0ma1\u001b[0m\u001b[0;34m.\u001b[0m\u001b[0mx\u001b[0m\u001b[0;34m)\u001b[0m\u001b[0;34m)\u001b[0m\u001b[0;34m%\u001b[0m \u001b[0mp\u001b[0m\u001b[0;34m\u001b[0m\u001b[0;34m\u001b[0m\u001b[0m\n\u001b[0m\u001b[1;32m     47\u001b[0m             \u001b[0mxr\u001b[0m\u001b[0;34m=\u001b[0m \u001b[0;34m(\u001b[0m\u001b[0ml\u001b[0m\u001b[0;34m*\u001b[0m\u001b[0ml\u001b[0m \u001b[0;34m-\u001b[0m \u001b[0ma1\u001b[0m\u001b[0;34m.\u001b[0m\u001b[0mx\u001b[0m \u001b[0;34m-\u001b[0m \u001b[0ma3\u001b[0m\u001b[0;34m.\u001b[0m\u001b[0mx\u001b[0m\u001b[0;34m)\u001b[0m \u001b[0;34m%\u001b[0m \u001b[0mp\u001b[0m\u001b[0;34m\u001b[0m\u001b[0;34m\u001b[0m\u001b[0m\n\u001b[1;32m     48\u001b[0m             \u001b[0myr\u001b[0m\u001b[0;34m=\u001b[0m \u001b[0;34m(\u001b[0m\u001b[0ml\u001b[0m\u001b[0;34m*\u001b[0m\u001b[0;34m(\u001b[0m\u001b[0ma1\u001b[0m\u001b[0;34m.\u001b[0m\u001b[0mx\u001b[0m\u001b[0;34m-\u001b[0m\u001b[0mxr\u001b[0m\u001b[0;34m)\u001b[0m\u001b[0;34m-\u001b[0m\u001b[0ma1\u001b[0m\u001b[0;34m.\u001b[0m\u001b[0my\u001b[0m\u001b[0;34m)\u001b[0m\u001b[0;34m%\u001b[0m\u001b[0mp\u001b[0m\u001b[0;34m\u001b[0m\u001b[0;34m\u001b[0m\u001b[0m\n",
            "\u001b[0;31mTypeError\u001b[0m: unsupported operand type(s) for *: 'int' and 'NoneType'"
          ]
        }
      ]
    }
  ]
}