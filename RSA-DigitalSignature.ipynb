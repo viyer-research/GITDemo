{
  "nbformat": 4,
  "nbformat_minor": 0,
  "metadata": {
    "colab": {
      "name": "Untitled4.ipynb",
      "provenance": [],
      "authorship_tag": "ABX9TyOnE4GwPe9OIXQ8FRaWejLF",
      "include_colab_link": true
    },
    "kernelspec": {
      "name": "python3",
      "display_name": "Python 3"
    },
    "language_info": {
      "name": "python"
    }
  },
  "cells": [
    {
      "cell_type": "markdown",
      "metadata": {
        "id": "view-in-github",
        "colab_type": "text"
      },
      "source": [
        "<a href=\"https://colab.research.google.com/github/viyer-research/GITDemo/blob/master/RSA-DigitalSignature.ipynb\" target=\"_parent\"><img src=\"https://colab.research.google.com/assets/colab-badge.svg\" alt=\"Open In Colab\"/></a>"
      ]
    },
    {
      "cell_type": "code",
      "metadata": {
        "colab": {
          "base_uri": "https://localhost:8080/"
        },
        "id": "9UQ6DE_Yk3US",
        "outputId": "f960f465-b85c-467c-9dc2-cdbf3bdc4f1c"
      },
      "source": [
        "# Function to find gcd\n",
        "# of two numbers\n",
        "def euclid(m, n):\n",
        "\t\n",
        "\tif n == 0:\n",
        "\t\treturn m\n",
        "\telse:\n",
        "\t\tr = m % n\n",
        "\t\treturn euclid(n, r)\n",
        "\t\n",
        "\t\n",
        "# Program to find\n",
        "# Multiplicative inverse\n",
        "def exteuclid(a, b):\n",
        "\t\n",
        "\tr1 = a\n",
        "\tr2 = b\n",
        "\ts1 = int(1)\n",
        "\ts2 = int(0)\n",
        "\tt1 = int(0)\n",
        "\tt2 = int(1)\n",
        "\t\n",
        "\twhile r2 > 0:\n",
        "\t\t\n",
        "\t\tq = r1//r2\n",
        "\t\tr = r1-q * r2\n",
        "\t\tr1 = r2\n",
        "\t\tr2 = r\n",
        "\t\ts = s1-q * s2\n",
        "\t\ts1 = s2\n",
        "\t\ts2 = s\n",
        "\t\tt = t1-q * t2\n",
        "\t\tt1 = t2\n",
        "\t\tt2 = t\n",
        "\t\t\n",
        "\tif t1 < 0:\n",
        "\t\tt1 = t1 % a\n",
        "\t\t\n",
        "\treturn (r1, t1)\n",
        "\n",
        "# Enter two large prime\n",
        "# numbers p and q\n",
        "p = 823\n",
        "q = 953\n",
        "n = p * q\n",
        "Pn = (p-1)*(q-1)\n",
        "\n",
        "# Generate encryption key\n",
        "# in range 1<e<Pn\n",
        "key = []\n",
        "\n",
        "for i in range(2, Pn):\n",
        "\t\n",
        "\tgcd = euclid(Pn, i)\n",
        "\t\n",
        "\tif gcd == 1:\n",
        "\t\tkey.append(i)\n",
        "\n",
        "\n",
        "# Select an encryption key\n",
        "# from the above list\n",
        "e = int(313)\n",
        "\n",
        "# Obtain inverse of\n",
        "# encryption key in Z_Pn\n",
        "r, d = exteuclid(Pn, e)\n",
        "if r == 1:\n",
        "\td = int(d)\n",
        "\tprint(\"decryption key is: \", d)\n",
        "\t\n",
        "else:\n",
        "\tprint(\"Multiplicative inverse for\\\n",
        "\tthe given encryption key does not \\\n",
        "\texist. Choose a different encryption key \")\n",
        "\n",
        "\n",
        "# Enter the message to be sent\n",
        "M = 19070\n",
        "\n",
        "# Signature is created by Alice\n",
        "S = (M**d) % n\n",
        "\n",
        "# Alice sends M and S both to Bob\n",
        "# Bob generates message M1 using the\n",
        "# signature S, Alice's public key e\n",
        "# and product n.\n",
        "M1 = (S**e) % n\n",
        "\n",
        "# If M = M1 only then Bob accepts\n",
        "# the message sent by Alice.\n",
        "\n",
        "if M == M1:\n",
        "\tprint(\"As M = M1, Accept the\\\n",
        "\tmessage sent by Alice\")\n",
        "else:\n",
        "\tprint(\"As M not equal to M1,\\\n",
        "\tDo not accept the message\\\n",
        "\tsent by Alice \")\n"
      ],
      "execution_count": 1,
      "outputs": [
        {
          "output_type": "stream",
          "name": "stdout",
          "text": [
            "decryption key is:  160009\n",
            "As M = M1, Accept the\tmessage sent by Alice\n"
          ]
        }
      ]
    }
  ]
}